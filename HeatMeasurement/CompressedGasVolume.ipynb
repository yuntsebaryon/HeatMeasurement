{
 "cells": [
  {
   "cell_type": "markdown",
   "metadata": {},
   "source": [
    "## Compressed Gas Volume\n",
    "Calculate the amount of the gas (in terms of volume roughly at 1 atm and room temperature) in a compressed gas bottle\n",
    "- The purpose is to estimate how many gas bottles I have to order for the LAr filter regeneration, for what the amount of Ar and Ar+2%H2 gas is estimated from the manufacturer"
   ]
  },
  {
   "cell_type": "markdown",
   "metadata": {},
   "source": [
    "- Gas bottle: 2500 psi and room temperature (TBC with the vendor)\n",
    "    - Supercritical fluids; not gas nor liquid\n",
    "    - Reference: https://www.researchgate.net/figure/Argon-pressure-temperature-phase-diagram-with-the-new-thermodynamic-boundary-The-phase_fig2_272295671\n",
    "    - It can also be found in any argon phase diagram"
   ]
  },
  {
   "cell_type": "markdown",
   "metadata": {},
   "source": [
    "- Argon data from NIST: https://webbook.nist.gov/chemistry/fluid/\n",
    "    - Isothermal properties\n",
    "    - Default for fluid\n",
    "    - 300 K, 2250 psia: 261.88 kg/m3\n",
    "    - 300 K, 2400 psia: 279.24 kg/m3\n",
    "    - Consistent with Argon property source 1 below, 5 times less dense than LAr"
   ]
  },
  {
   "cell_type": "markdown",
   "metadata": {},
   "source": [
    "- Argon property source 1, http://cmwelding.com/technical/gas-calculator-gas-phase\n",
    "    - 70 F, 2500 psi, water volume (the volume of the bottle) 1.7 cu.ft.\n",
    "    - Density: 18.76047 lbm/ft3 (=0.3g/cm3)\n",
    "    - Compressibility: 181.522\n",
    "    - Product volume: 308.59 scf\n",
    "    - Product weight: 31.89 lbs\n",
    "    - The density is 4.67 times smaller than LAr\n",
    "    - This is very close to the ideal gas, in which case the compressibility is 2500/14.5 = 172.4\n",
    "    "
   ]
  },
  {
   "cell_type": "markdown",
   "metadata": {},
   "source": [
    "- Argon property source 2, the engineering book, https://www.engineeringtoolbox.com/argon-density-specific-weight-temperature-pressure-d_2089.html\n",
    "    - 300 K, 1450 psia\n",
    "    - Density: 167.6 kg/m3 (=0.1676g/cm3)\n",
    "    - the density is 8 times smaller than LAr"
   ]
  },
  {
   "cell_type": "markdown",
   "metadata": {},
   "source": [
    "- Gas argon density at 1 bara and 25 C: 1.613 kg/m3\n",
    "- Liquid argon density at 1 bara and 87.18 K: 1396 kg/m3"
   ]
  },
  {
   "cell_type": "code",
   "execution_count": 2,
   "metadata": {},
   "outputs": [
    {
     "data": {
      "text/plain": [
       "865.4680719156851"
      ]
     },
     "execution_count": 2,
     "metadata": {},
     "output_type": "execute_result"
    }
   ],
   "source": [
    "# Expanding factor from liquid to gas\n",
    "f = 1396/1.613\n",
    "f"
   ]
  },
  {
   "cell_type": "code",
   "execution_count": 3,
   "metadata": {},
   "outputs": [
    {
     "data": {
      "text/plain": [
       "185.32506893269488"
      ]
     },
     "execution_count": 3,
     "metadata": {},
     "output_type": "execute_result"
    }
   ],
   "source": [
    "f/4.67"
   ]
  },
  {
   "cell_type": "code",
   "execution_count": 4,
   "metadata": {},
   "outputs": [
    {
     "data": {
      "text/plain": [
       "172.41379310344828"
      ]
     },
     "execution_count": 4,
     "metadata": {},
     "output_type": "execute_result"
    }
   ],
   "source": [
    "2500/14.5"
   ]
  },
  {
   "cell_type": "code",
   "execution_count": 5,
   "metadata": {},
   "outputs": [
    {
     "data": {
      "text/plain": [
       "4.9992837702334905"
      ]
     },
     "execution_count": 5,
     "metadata": {},
     "output_type": "execute_result"
    }
   ],
   "source": [
    "1396/279.24"
   ]
  },
  {
   "cell_type": "code",
   "execution_count": null,
   "metadata": {},
   "outputs": [],
   "source": []
  }
 ],
 "metadata": {
  "kernelspec": {
   "display_name": "Python 3",
   "language": "python",
   "name": "python3"
  },
  "language_info": {
   "codemirror_mode": {
    "name": "ipython",
    "version": 3
   },
   "file_extension": ".py",
   "mimetype": "text/x-python",
   "name": "python",
   "nbconvert_exporter": "python",
   "pygments_lexer": "ipython3",
   "version": "3.7.6"
  }
 },
 "nbformat": 4,
 "nbformat_minor": 4
}
