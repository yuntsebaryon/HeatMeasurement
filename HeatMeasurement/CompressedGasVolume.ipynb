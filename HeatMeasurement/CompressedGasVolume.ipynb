{
 "cells": [
  {
   "cell_type": "markdown",
   "metadata": {},
   "source": [
    "## Compressed Gas Volume\n",
    "Calculate the amount of the gas (in terms of volume roughly at 1 atm and room temperature) in a compressed gas bottle\n",
    "- The purpose is to estimate how many gas bottles I have to order for the LAr filter regeneration, for what the amount of Ar and Ar+2%H2 gas is estimated from the manufacturer"
   ]
  },
  {
   "cell_type": "markdown",
   "metadata": {},
   "source": [
    "- Gas bottle: ~2500 psi and room temperature\n",
    "    - Supercritical fluids; not gas nor liquid\n",
    "    - Reference: https://www.researchgate.net/figure/Argon-pressure-temperature-phase-diagram-with-the-new-thermodynamic-boundary-The-phase_fig2_272295671\n",
    "    - It can also be found in any argon phase diagram"
   ]
  },
  {
   "cell_type": "markdown",
   "metadata": {},
   "source": [
    "- Argon data from NIST: https://webbook.nist.gov/chemistry/fluid/\n",
    "    - Isothermal properties\n",
    "    - Default for fluid\n",
    "    - 300 K, 2250 psia: 261.88 kg/m3\n",
    "    - 300 K, 2400 psia: 279.24 kg/m3 (5 times less dense than LAr)\n",
    "    - Consistent with Argon property source 1 below"
   ]
  },
  {
   "cell_type": "markdown",
   "metadata": {},
   "source": [
    "- Argon property source 1, http://cmwelding.com/technical/gas-calculator-gas-phase\n",
    "    - 70 F, 2500 psi, water volume (the volume of the bottle) 1.7 cu.ft.\n",
    "    - Density: 18.76047 lbm/ft3 (=0.3g/cm3)\n",
    "    - Compressibility: 181.522\n",
    "    - Product volume: 308.59 scf\n",
    "    - Product weight: 31.89 lbs\n",
    "    - The density is 4.67 times smaller than LAr\n",
    "    - This is very close to the ideal gas, in which case the compressibility is 2500/14.5 = 172.4\n",
    "    "
   ]
  },
  {
   "cell_type": "markdown",
   "metadata": {},
   "source": [
    "- Argon property source 2, the engineering book, https://www.engineeringtoolbox.com/argon-density-specific-weight-temperature-pressure-d_2089.html\n",
    "    - 300 K, 1450 psia\n",
    "    - Density: 167.6 kg/m3 (=0.1676g/cm3)\n",
    "    - the density is 8 times smaller than LAr"
   ]
  },
  {
   "cell_type": "markdown",
   "metadata": {},
   "source": [
    "- Gas argon density at 1 bara and 25 C: 1.613 kg/m3\n",
    "- Liquid argon density at 1 bara and 87.18 K: 1396 kg/m3"
   ]
  },
  {
   "cell_type": "markdown",
   "metadata": {},
   "source": [
    "- Information from Airgas\n",
    "    - UHP Ar in Size 300 High Pressure Steel Cylinder, CGA-580, pressure 2400 psi, internal volume 49.8 L, 336 ft3 (9514.46 L), environmental temperature\n",
    "    - 2% H2+Ar in Size 200 High Pressure Steel Cylinder, CGA-350, pressure 2250 psi, internal volume 43.9 L, 251 ft3 (7107.528), environmental temperature\n",
    "    - They use the temperature of 70 F to calculate "
   ]
  },
  {
   "cell_type": "code",
   "execution_count": 2,
   "metadata": {},
   "outputs": [
    {
     "data": {
      "text/plain": [
       "865.4680719156851"
      ]
     },
     "execution_count": 2,
     "metadata": {},
     "output_type": "execute_result"
    }
   ],
   "source": [
    "# Expanding factor from liquid to gas\n",
    "f = 1396/1.613\n",
    "f"
   ]
  },
  {
   "cell_type": "code",
   "execution_count": null,
   "metadata": {},
   "outputs": [],
   "source": []
  },
  {
   "cell_type": "code",
   "execution_count": 3,
   "metadata": {},
   "outputs": [
    {
     "data": {
      "text/plain": [
       "185.32506893269488"
      ]
     },
     "execution_count": 3,
     "metadata": {},
     "output_type": "execute_result"
    }
   ],
   "source": [
    "f/4.67"
   ]
  },
  {
   "cell_type": "code",
   "execution_count": 4,
   "metadata": {},
   "outputs": [
    {
     "data": {
      "text/plain": [
       "172.41379310344828"
      ]
     },
     "execution_count": 4,
     "metadata": {},
     "output_type": "execute_result"
    }
   ],
   "source": [
    "2500/14.5"
   ]
  },
  {
   "cell_type": "code",
   "execution_count": 5,
   "metadata": {},
   "outputs": [
    {
     "data": {
      "text/plain": [
       "4.9992837702334905"
      ]
     },
     "execution_count": 5,
     "metadata": {},
     "output_type": "execute_result"
    }
   ],
   "source": [
    "1396/279.24"
   ]
  },
  {
   "cell_type": "code",
   "execution_count": 8,
   "metadata": {},
   "outputs": [
    {
     "name": "stdout",
     "output_type": "stream",
     "text": [
      "173.1184128952263 8621.296962182269\n"
     ]
    }
   ],
   "source": [
    "Cf300 = 279.24/1.613\n",
    "Vol300 = 49.8*Cf300\n",
    "print( Cf300, Vol300 )"
   ]
  },
  {
   "cell_type": "code",
   "execution_count": 9,
   "metadata": {},
   "outputs": [
    {
     "name": "stdout",
     "output_type": "stream",
     "text": [
      "162.3558586484811 7127.42219466832\n"
     ]
    }
   ],
   "source": [
    "Cf200 = 261.88/1.613\n",
    "Vol200 = 43.9*Cf200\n",
    "print( Cf200, Vol200 )"
   ]
  },
  {
   "cell_type": "code",
   "execution_count": 10,
   "metadata": {},
   "outputs": [
    {
     "data": {
      "text/plain": [
       "59.465374999999995"
      ]
     },
     "execution_count": 10,
     "metadata": {},
     "output_type": "execute_result"
    }
   ],
   "source": [
    "9514.46/160"
   ]
  },
  {
   "cell_type": "code",
   "execution_count": 11,
   "metadata": {},
   "outputs": [
    {
     "data": {
      "text/plain": [
       "44.42205"
      ]
     },
     "execution_count": 11,
     "metadata": {},
     "output_type": "execute_result"
    }
   ],
   "source": [
    "7107.528/160"
   ]
  },
  {
   "cell_type": "code",
   "execution_count": 15,
   "metadata": {},
   "outputs": [
    {
     "name": "stdout",
     "output_type": "stream",
     "text": [
      "Need 6000 L of Ar gas\n"
     ]
    }
   ],
   "source": [
    "# Vendor:\n",
    "# 5 SLPM per kg of catalyst is recommended for efficient heating of the catalyst.\n",
    "# Preheating will last for at least two hours\n",
    "# Total Ar needed to preheat 10 kg (molecular+copper)\n",
    "TotalAr = 5*10*60*2\n",
    "print('Need %d L of Ar gas' % TotalAr)"
   ]
  },
  {
   "cell_type": "code",
   "execution_count": 16,
   "metadata": {},
   "outputs": [
    {
     "name": "stdout",
     "output_type": "stream",
     "text": [
      "Total Ar used in Bern: 19200 L\n"
     ]
    }
   ],
   "source": [
    "# Bern uses 160 slpm for 20 kg for 2 hours\n",
    "TotalArBern = 160*60*2\n",
    "print('Total Ar used in Bern: %d L' % TotalArBern )"
   ]
  },
  {
   "cell_type": "code",
   "execution_count": 18,
   "metadata": {},
   "outputs": [
    {
     "name": "stdout",
     "output_type": "stream",
     "text": [
      "Need 36000 at 5 slpm per kg or 22500 at 15 slpm per kg\n"
     ]
    }
   ],
   "source": [
    "# Vendor: 5 slpm per kg, it takes ~24 hours\n",
    "# Vendor: 15 slpm per kg, it takes ~5 hours\n",
    "# Use 5 kg of copper\n",
    "TotalMix1 = 5*5*60*24\n",
    "TotalMix2 = 15*5*60*5\n",
    "print('Need %d at 5 slpm per kg or %d at 15 slpm per kg' % (TotalMix1, TotalMix2) )"
   ]
  },
  {
   "cell_type": "markdown",
   "metadata": {},
   "source": [
    "- Conclusion:\n",
    "    - 5-6 bottles Ar\n",
    "    - 6-7 bottles of Mix"
   ]
  },
  {
   "cell_type": "code",
   "execution_count": null,
   "metadata": {},
   "outputs": [],
   "source": []
  }
 ],
 "metadata": {
  "kernelspec": {
   "display_name": "Python 3",
   "language": "python",
   "name": "python3"
  },
  "language_info": {
   "codemirror_mode": {
    "name": "ipython",
    "version": 3
   },
   "file_extension": ".py",
   "mimetype": "text/x-python",
   "name": "python",
   "nbconvert_exporter": "python",
   "pygments_lexer": "ipython3",
   "version": "3.7.6"
  }
 },
 "nbformat": 4,
 "nbformat_minor": 4
}
