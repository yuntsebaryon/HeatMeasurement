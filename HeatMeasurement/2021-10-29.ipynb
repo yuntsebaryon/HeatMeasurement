{
 "cells": [
  {
   "cell_type": "markdown",
   "metadata": {},
   "source": [
    "### Measure the parasitic heat of SLArchetto\n",
    "\n",
    "- No high voltage applied, no readout electronics.  Purely the cryogenic system."
   ]
  },
  {
   "cell_type": "markdown",
   "metadata": {},
   "source": [
    "Use a plastic tube connected to the venting hose (V14) of SLArchetto\n",
    "- half circumference = 8 inches = 203.2 mm\n",
    "- length of the tube = 9.6 feet = 2926.08 mm"
   ]
  },
  {
   "cell_type": "code",
   "execution_count": 1,
   "metadata": {},
   "outputs": [],
   "source": [
    "import math"
   ]
  },
  {
   "cell_type": "code",
   "execution_count": 2,
   "metadata": {},
   "outputs": [
    {
     "name": "stdout",
     "output_type": "stream",
     "text": [
      "Radius = 64.680569 mm\n"
     ]
    }
   ],
   "source": [
    "# radius (mm)\n",
    "r = 203.2/math.pi\n",
    "# length (mm)\n",
    "l = 2926.08\n",
    "print('Radius = %f mm' % r)"
   ]
  },
  {
   "cell_type": "code",
   "execution_count": 3,
   "metadata": {},
   "outputs": [
    {
     "name": "stdout",
     "output_type": "stream",
     "text": [
      "Volume = 38.457737 liter\n"
     ]
    }
   ],
   "source": [
    "# volume (mm^3)\n",
    "V = math.pi*(r**2)*l\n",
    "# volume (liter)\n",
    "V /= 1000000\n",
    "print('Volume = %f liter' % V)"
   ]
  },
  {
   "cell_type": "markdown",
   "metadata": {},
   "source": [
    "At 1 atm, 293.05 kelvin, the argon gas density is 0.041613 mol/l"
   ]
  },
  {
   "cell_type": "code",
   "execution_count": 4,
   "metadata": {},
   "outputs": [
    {
     "name": "stdout",
     "output_type": "stream",
     "text": [
      "1.600342 moles of argon in the bag\n"
     ]
    }
   ],
   "source": [
    "# density (mol/l)\n",
    "rho = 0.041613\n",
    "# Number of moles\n",
    "nMole = rho*V\n",
    "print('%f moles of argon in the bag' % nMole)"
   ]
  },
  {
   "cell_type": "markdown",
   "metadata": {},
   "source": [
    "Argon heat of vaporation: 6.447 kJ/mol"
   ]
  },
  {
   "cell_type": "code",
   "execution_count": 5,
   "metadata": {},
   "outputs": [
    {
     "name": "stdout",
     "output_type": "stream",
     "text": [
      "Need 10.317404 kJ of heat to produce 1.600342 moles of gas argon\n"
     ]
    }
   ],
   "source": [
    "# total heat to produce the argon gas with the volume of the plastic tube (kJ)\n",
    "H = nMole*6.447\n",
    "print('Need %f kJ of heat to produce %f moles of gas argon' % (H, nMole))"
   ]
  },
  {
   "cell_type": "markdown",
   "metadata": {},
   "source": [
    "#### 10/29/2021\n",
    "\n",
    "- 1st test: it took 3.5 minutes to fill\n",
    "- 2nd test: it took 7 minutes to fill\n",
    "- 3rd test: turned on the heaters (~450W).  It took 12 seconds to fill"
   ]
  },
  {
   "cell_type": "code",
   "execution_count": 6,
   "metadata": {},
   "outputs": [
    {
     "name": "stdout",
     "output_type": "stream",
     "text": [
      "1st test: Heat load of the first test: 49.130494 Watts\n"
     ]
    }
   ],
   "source": [
    "# 1st test\n",
    "# Heat load per second (kW)\n",
    "P = H/(3.5*60)\n",
    "# Heat load in W\n",
    "P *= 1000\n",
    "print('1st test: Heat load of the first test: %f Watts' % P)"
   ]
  },
  {
   "cell_type": "code",
   "execution_count": 7,
   "metadata": {},
   "outputs": [
    {
     "name": "stdout",
     "output_type": "stream",
     "text": [
      "2nd test: Heat load of the second test: 24.565247 Watts\n"
     ]
    }
   ],
   "source": [
    "# 2nd test\n",
    "# Heat load in W\n",
    "P = H/(7*60)*1000\n",
    "print ('2nd test: Heat load of the second test: %f Watts' % P)"
   ]
  },
  {
   "cell_type": "code",
   "execution_count": 8,
   "metadata": {},
   "outputs": [
    {
     "name": "stdout",
     "output_type": "stream",
     "text": [
      "3rd test: Heat load of the third test with the ~450 W heaters: 859.783647 Watts\n"
     ]
    }
   ],
   "source": [
    "# 3rd test\n",
    "# Heat load in W\n",
    "P = H/12*1000\n",
    "print ('3rd test: Heat load of the third test with the ~450 W heaters: %f Watts' % P)"
   ]
  },
  {
   "cell_type": "markdown",
   "metadata": {},
   "source": [
    "Include the heat raising the argon gas temperature from 89K to 300K, and Hprime represents the total heat (evaporation+temperature rising)."
   ]
  },
  {
   "cell_type": "code",
   "execution_count": 9,
   "metadata": {},
   "outputs": [],
   "source": [
    "# Argon gas heat capacity (J/mol*K)\n",
    "Cp = 20.78600"
   ]
  },
  {
   "cell_type": "code",
   "execution_count": 10,
   "metadata": {},
   "outputs": [
    {
     "name": "stdout",
     "output_type": "stream",
     "text": [
      "2nd test: Need 17.336257 kJ of heat to produce 1.600342 moles of gas argon and heat it from 89K to 300K\n"
     ]
    }
   ],
   "source": [
    "# Heat load including the evaporation and the temperature rise from 89K to 300K in kJ\n",
    "Hprime = H + Cp*nMole*(300-89)/1000\n",
    "print('2nd test: Need %f kJ of heat to produce %f moles of gas argon and heat it from 89K to 300K' % (Hprime, nMole))"
   ]
  },
  {
   "cell_type": "code",
   "execution_count": 11,
   "metadata": {},
   "outputs": [
    {
     "name": "stdout",
     "output_type": "stream",
     "text": [
      "Heat load of the second test: 41.276801 Watts\n"
     ]
    }
   ],
   "source": [
    "# 2nd test\n",
    "# Heat load in W\n",
    "Pprime = Hprime/(7*60)*1000\n",
    "print ('Heat load of the second test: %f Watts' % Pprime)"
   ]
  },
  {
   "cell_type": "code",
   "execution_count": 12,
   "metadata": {},
   "outputs": [
    {
     "name": "stdout",
     "output_type": "stream",
     "text": [
      "3rd test: Heat load of the third test with the ~450 W heaters: 1444.688048 Watts\n"
     ]
    }
   ],
   "source": [
    "# 3rd test\n",
    "# Heat load in W\n",
    "Pprime = Hprime/12*1000\n",
    "print ('3rd test: Heat load of the third test with the ~450 W heaters: %f Watts' % Pprime)"
   ]
  },
  {
   "cell_type": "markdown",
   "metadata": {},
   "source": [
    "#### 11/2/2021 Update: repeat the same tests\n",
    "\n",
    "- 1st: Can reproduce the 7-minute result.  Waited until 9'55\" for fill\n",
    "- 2nd: with the heater (~450W): 44 seconds\n",
    "- 3rd: with the heater (~450W): 24 seconds\n",
    "- 4th: with the heater (~450W): 23 seconds\n",
    "- 5th: with the heater (~450W): 28 seconds\n",
    "- 6th: with the heater (~450W): 27 seconds\n",
    "- 7th: with the heater (~450W): 26 seconds\n",
    "- Purge the TS\n",
    "- 8th: no heater: can reproduce the 7-minute result.  But in 20 minutes it is still not as filled as the cases with the heater on\n",
    "- 9th: with the heater (~450W): 51 seconds\n",
    "- 10th: with the heater (~450W): 36 seconds\n",
    "- 11th: with the heater (~450W): 29 seconds\n",
    "- 12th: with the heater (~450W): 26 seconds\n",
    "- 13th: with the heater (~450W): 27 seconds"
   ]
  },
  {
   "cell_type": "markdown",
   "metadata": {},
   "source": [
    "- Also, when the heater is turned on, the temperature of the argon gas in the vessel (RTD4, 5) drops to 89-90K.  That means the heater is simply to evaporate liquid argon"
   ]
  },
  {
   "cell_type": "code",
   "execution_count": 13,
   "metadata": {},
   "outputs": [
    {
     "name": "stdout",
     "output_type": "stream",
     "text": [
      "1st test: Heat load of the first test: 17.340174 Watts\n"
     ]
    }
   ],
   "source": [
    "# 1st test, heat load in W, only evaporating heat\n",
    "P = H/(9*60+55)*1000\n",
    "print('1st test: Heat load of the first test: %f Watts' % P)"
   ]
  },
  {
   "cell_type": "code",
   "execution_count": 14,
   "metadata": {},
   "outputs": [
    {
     "name": "stdout",
     "output_type": "stream",
     "text": [
      "2nd test: Heat load of the first test: 234.486449 Watts\n"
     ]
    }
   ],
   "source": [
    "# 2nd test, heat load in W, only evaporating heat\n",
    "P = H/44*1000\n",
    "print('2nd test: Heat load of the first test: %f Watts' % P)"
   ]
  },
  {
   "cell_type": "code",
   "execution_count": 15,
   "metadata": {},
   "outputs": [
    {
     "name": "stdout",
     "output_type": "stream",
     "text": [
      "3rd test: Heat load of the first test: 429.891824 Watts\n"
     ]
    }
   ],
   "source": [
    "# 3rd test, heat load in W, only evaporating heat\n",
    "P = H/24*1000\n",
    "print('3rd test: Heat load of the first test: %f Watts' % P)"
   ]
  },
  {
   "cell_type": "code",
   "execution_count": 16,
   "metadata": {},
   "outputs": [
    {
     "name": "stdout",
     "output_type": "stream",
     "text": [
      "4th test: Heat load of the first test: 448.582773 Watts\n"
     ]
    }
   ],
   "source": [
    "# 4th test, heat load in W, only evaporating heat\n",
    "P = H/23*1000\n",
    "print('4th test: Heat load of the first test: %f Watts' % P)"
   ]
  },
  {
   "cell_type": "code",
   "execution_count": 17,
   "metadata": {},
   "outputs": [
    {
     "name": "stdout",
     "output_type": "stream",
     "text": [
      "5th test: Heat load of the first test: 368.478706 Watts\n"
     ]
    }
   ],
   "source": [
    "# 5th test, heat load in W, only evaporating heat\n",
    "P = H/28*1000\n",
    "print('5th test: Heat load of the first test: %f Watts' % P)"
   ]
  },
  {
   "cell_type": "code",
   "execution_count": 18,
   "metadata": {},
   "outputs": [
    {
     "name": "stdout",
     "output_type": "stream",
     "text": [
      "6th test: Heat load of the first test: 382.126066 Watts\n"
     ]
    }
   ],
   "source": [
    "# 6th test, heat load in W, only evaporating heat\n",
    "P = H/27*1000\n",
    "print('6th test: Heat load of the first test: %f Watts' % P)"
   ]
  },
  {
   "cell_type": "code",
   "execution_count": 19,
   "metadata": {},
   "outputs": [
    {
     "name": "stdout",
     "output_type": "stream",
     "text": [
      "7th test: Heat load of the first test: 396.823222 Watts\n"
     ]
    }
   ],
   "source": [
    "# 7th test, heat load in W, only evaporating heat\n",
    "P = H/26*1000\n",
    "print('7th test: Heat load of the first test: %f Watts' % P)"
   ]
  },
  {
   "cell_type": "code",
   "execution_count": 20,
   "metadata": {},
   "outputs": [
    {
     "name": "stdout",
     "output_type": "stream",
     "text": [
      "8th test: Heat load of the first test: 8.597836 Watts\n"
     ]
    }
   ],
   "source": [
    "# 8th test, heat load in W, only evaporating heat\n",
    "P = H/(20*60)*1000\n",
    "print('8th test: Heat load of the first test: %f Watts' % P)"
   ]
  },
  {
   "cell_type": "code",
   "execution_count": 21,
   "metadata": {},
   "outputs": [
    {
     "name": "stdout",
     "output_type": "stream",
     "text": [
      "9th test: Heat load of the first test: 202.302035 Watts\n"
     ]
    }
   ],
   "source": [
    "# 9th test, heat load in W, only evaporating heat\n",
    "P = H/51*1000\n",
    "print('9th test: Heat load of the first test: %f Watts' % P)"
   ]
  },
  {
   "cell_type": "code",
   "execution_count": 22,
   "metadata": {},
   "outputs": [
    {
     "name": "stdout",
     "output_type": "stream",
     "text": [
      "10th test: Heat load of the first test: 286.594549 Watts\n"
     ]
    }
   ],
   "source": [
    "# 10th test, heat load in W, only evaporating heat\n",
    "P = H/36*1000\n",
    "print('10th test: Heat load of the first test: %f Watts' % P)"
   ]
  },
  {
   "cell_type": "code",
   "execution_count": 23,
   "metadata": {
    "scrolled": true
   },
   "outputs": [
    {
     "name": "stdout",
     "output_type": "stream",
     "text": [
      "11th test: Heat load of the first test: 355.772544 Watts\n"
     ]
    }
   ],
   "source": [
    "# 11th test, heat load in W, only evaporating heat\n",
    "P = H/29*1000\n",
    "print('11th test: Heat load of the first test: %f Watts' % P)"
   ]
  },
  {
   "cell_type": "code",
   "execution_count": 24,
   "metadata": {},
   "outputs": [
    {
     "name": "stdout",
     "output_type": "stream",
     "text": [
      "12th test: Heat load of the first test: 396.823222 Watts\n"
     ]
    }
   ],
   "source": [
    "# 12th test, heat load in W, only evaporating heat\n",
    "P = H/26*1000\n",
    "print('12th test: Heat load of the first test: %f Watts' % P)"
   ]
  },
  {
   "cell_type": "code",
   "execution_count": 25,
   "metadata": {},
   "outputs": [
    {
     "name": "stdout",
     "output_type": "stream",
     "text": [
      "13th test: Heat load of the first test: 382.126066 Watts\n"
     ]
    }
   ],
   "source": [
    "# 13th test, heat load in W, only evaporating heat\n",
    "P = H/27*1000\n",
    "print('13th test: Heat load of the first test: %f Watts' % P)"
   ]
  },
  {
   "cell_type": "markdown",
   "metadata": {},
   "source": [
    "#### TPC\n",
    "\n",
    "- from the measurements we did at room temp. The ladders were around 8x more resistive than the full DR8 at RT. Suppose this ratio is preserved, we should have a sheet resistance of ~20 GOhm per panel at 500 V/cm in LAr.  This means around 5 GOhm bulk resistance for the full ladder field cage"
   ]
  },
  {
   "cell_type": "code",
   "execution_count": 4,
   "metadata": {},
   "outputs": [
    {
     "name": "stdout",
     "output_type": "stream",
     "text": [
      "TPC power for the ladder field cage at 500V/cm: 0.045000 W\n"
     ]
    }
   ],
   "source": [
    "# TPC power for the ladder design (W) at 500V/cm\n",
    "tpcP = 15**2/5*1e-3\n",
    "print('TPC power for the ladder field cage at 500V/cm: %f W' % tpcP)"
   ]
  },
  {
   "cell_type": "markdown",
   "metadata": {},
   "source": [
    "#### LArPix\n",
    "\n",
    "- According to the LArPix paper, on average the power is ~294&mu;W per channel\n",
    "- We have about 70x70 pixels"
   ]
  },
  {
   "cell_type": "code",
   "execution_count": 1,
   "metadata": {},
   "outputs": [
    {
     "name": "stdout",
     "output_type": "stream",
     "text": [
      "LArPix power: 1.440600 W\n"
     ]
    }
   ],
   "source": [
    "# LArPix power in W\n",
    "larpixP = 70*70*294/1000000\n",
    "print('LArPix power: %f W' % larpixP)"
   ]
  },
  {
   "cell_type": "code",
   "execution_count": null,
   "metadata": {},
   "outputs": [],
   "source": []
  }
 ],
 "metadata": {
  "kernelspec": {
   "display_name": "Python 3",
   "language": "python",
   "name": "python3"
  },
  "language_info": {
   "codemirror_mode": {
    "name": "ipython",
    "version": 3
   },
   "file_extension": ".py",
   "mimetype": "text/x-python",
   "name": "python",
   "nbconvert_exporter": "python",
   "pygments_lexer": "ipython3",
   "version": "3.7.6"
  }
 },
 "nbformat": 4,
 "nbformat_minor": 4
}
