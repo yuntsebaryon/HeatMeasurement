{
 "cells": [
  {
   "cell_type": "markdown",
   "metadata": {},
   "source": [
    "### Flowmeter Calibration\n",
    "\n",
    "- Calibrate a flowmeter designed for air to Ar gas\n",
    "- At 300 K, 14.5 psia\n",
    "    - Nitrogen density: 1.1230 kg/m<sup>3</sup>\n",
    "    - Oxygen density: 1.2833 kg/m<sup>3</sup>\n",
    "    - Ar density: 1.6021 kg/m<sup>3</sup>"
   ]
  },
  {
   "cell_type": "markdown",
   "metadata": {},
   "source": [
    "- Formula of the calibration factor: sqrt(&rho;<sub>scale</sub>/&rho;<sub>new</sub>)\n",
    "- Reference: https://www.brooksinstrument.com/en/blog/how-do-i-correct-my-variable-area-flow-meter-for-a-gas-with-a"
   ]
  },
  {
   "cell_type": "code",
   "execution_count": 1,
   "metadata": {},
   "outputs": [
    {
     "name": "stdout",
     "output_type": "stream",
     "text": [
      "Air density is 1.155060 kg/m3\n",
      "Calibration factor is 0.849097\n"
     ]
    }
   ],
   "source": [
    "import math\n",
    "rho_N2 = 1.1230\n",
    "rho_O2 = 1.2833\n",
    "rho_Air = rho_N2*0.8 + rho_O2*0.2\n",
    "rho_Ar = 1.6021\n",
    "F = math.sqrt(rho_Air/rho_Ar)\n",
    "print( 'Air density is %f kg/m3' % rho_Air )\n",
    "print( 'Calibration factor is %f' % F)"
   ]
  },
  {
   "cell_type": "markdown",
   "metadata": {},
   "source": [
    "- A flowmeter for air ranging up to 400 scfh is equivalent to Ar"
   ]
  },
  {
   "cell_type": "code",
   "execution_count": 2,
   "metadata": {},
   "outputs": [
    {
     "name": "stdout",
     "output_type": "stream",
     "text": [
      "A flowmeter for air ranging up to 400.000000 scfh is equivalent to Ar up to 339.638922 scfh, or 5.660649 scfm\n"
     ]
    }
   ],
   "source": [
    "UAir = 400\n",
    "UAr = UAir*F\n",
    "print ('A flowmeter for air ranging up to %f scfh is equivalent to Ar up to %f scfh, or %f scfm' % ( UAir, UAr, UAr/60 ) )"
   ]
  },
  {
   "cell_type": "markdown",
   "metadata": {},
   "source": [
    "- Convert scfm to slpm: 1 foot = 30.48cm"
   ]
  },
  {
   "cell_type": "code",
   "execution_count": 3,
   "metadata": {},
   "outputs": [
    {
     "name": "stdout",
     "output_type": "stream",
     "text": [
      "1 cf = 28.316847 L\n"
     ]
    }
   ],
   "source": [
    "cf2l = pow(30.48,3)/1000.\n",
    "print( '1 cf = %f L' % cf2l )"
   ]
  },
  {
   "cell_type": "code",
   "execution_count": 4,
   "metadata": {},
   "outputs": [
    {
     "name": "stdout",
     "output_type": "stream",
     "text": [
      "The upper range for Ar of the flowmeter for 400.000000 scfh of air is 160.291721 slpm\n"
     ]
    }
   ],
   "source": [
    "UArinSLPM = UAr*cf2l/60\n",
    "print( 'The upper range for Ar of the flowmeter for %f scfh of air is %f slpm' % (UAir, UArinSLPM) )"
   ]
  },
  {
   "cell_type": "code",
   "execution_count": 5,
   "metadata": {},
   "outputs": [
    {
     "data": {
      "text/plain": [
       "22.653477273600004"
      ]
     },
     "execution_count": 5,
     "metadata": {},
     "output_type": "execute_result"
    }
   ],
   "source": [
    "0.8*cf2l"
   ]
  },
  {
   "cell_type": "code",
   "execution_count": 6,
   "metadata": {},
   "outputs": [
    {
     "data": {
      "text/plain": [
       "232.1981420544"
      ]
     },
     "execution_count": 6,
     "metadata": {},
     "output_type": "execute_result"
    }
   ],
   "source": [
    "8.2*cf2l"
   ]
  },
  {
   "cell_type": "code",
   "execution_count": 7,
   "metadata": {},
   "outputs": [
    {
     "name": "stdout",
     "output_type": "stream",
     "text": [
      "A flowmeter for air ranging up to 130.000000 scfh is equivalent to Ar up to 110.382650 scfh, or 1.839711 scfm\n",
      "The upper range for Ar of the flowmeter for 130.000000 scfh of air is 52.094809 slpm\n"
     ]
    }
   ],
   "source": [
    "UAir = 130\n",
    "UAr = UAir*F\n",
    "UArinSLPM = UAr*cf2l/60\n",
    "print ('A flowmeter for air ranging up to %f scfh is equivalent to Ar up to %f scfh, or %f scfm' % ( UAir, UAr, UAr/60 ) )\n",
    "print( 'The upper range for Ar of the flowmeter for %f scfh of air is %f slpm' % (UAir, UArinSLPM) )"
   ]
  },
  {
   "cell_type": "code",
   "execution_count": 8,
   "metadata": {},
   "outputs": [
    {
     "name": "stdout",
     "output_type": "stream",
     "text": [
      "Converting factor from Air in scfh to Ar in slpm: 0.400729\n"
     ]
    }
   ],
   "source": [
    "AirScfh2ArSlpm = F*cf2l/60\n",
    "print('Converting factor from Air in scfh to Ar in slpm: %f' % AirScfh2ArSlpm )"
   ]
  },
  {
   "cell_type": "code",
   "execution_count": 9,
   "metadata": {},
   "outputs": [
    {
     "data": {
      "text/plain": [
       "160.29172067818573"
      ]
     },
     "execution_count": 9,
     "metadata": {},
     "output_type": "execute_result"
    }
   ],
   "source": [
    "400*AirScfh2ArSlpm"
   ]
  },
  {
   "cell_type": "code",
   "execution_count": 10,
   "metadata": {},
   "outputs": [
    {
     "data": {
      "text/plain": [
       "92.1677393899568"
      ]
     },
     "execution_count": 10,
     "metadata": {},
     "output_type": "execute_result"
    }
   ],
   "source": [
    "230*AirScfh2ArSlpm"
   ]
  },
  {
   "cell_type": "code",
   "execution_count": 11,
   "metadata": {},
   "outputs": [
    {
     "data": {
      "text/plain": [
       "140.25525559341253"
      ]
     },
     "execution_count": 11,
     "metadata": {},
     "output_type": "execute_result"
    }
   ],
   "source": [
    "350*AirScfh2ArSlpm"
   ]
  },
  {
   "cell_type": "code",
   "execution_count": 12,
   "metadata": {},
   "outputs": [
    {
     "data": {
      "text/plain": [
       "88.16044637300216"
      ]
     },
     "execution_count": 12,
     "metadata": {},
     "output_type": "execute_result"
    }
   ],
   "source": [
    "220*AirScfh2ArSlpm"
   ]
  },
  {
   "cell_type": "code",
   "execution_count": 13,
   "metadata": {},
   "outputs": [
    {
     "data": {
      "text/plain": [
       "148.2698416273218"
      ]
     },
     "execution_count": 13,
     "metadata": {},
     "output_type": "execute_result"
    }
   ],
   "source": [
    "370*AirScfh2ArSlpm"
   ]
  },
  {
   "cell_type": "code",
   "execution_count": 15,
   "metadata": {},
   "outputs": [
    {
     "name": "stdout",
     "output_type": "stream",
     "text": [
      "Converting factor from Air in scfm to Ar in slpm: 24.043758\n"
     ]
    }
   ],
   "source": [
    "AirScfm2ArSlpm = F*cf2l\n",
    "print('Converting factor from Air in scfm to Ar in slpm: %f' % AirScfm2ArSlpm )"
   ]
  },
  {
   "cell_type": "markdown",
   "metadata": {},
   "source": [
    "### April 27th, 2022\n",
    "\n",
    "Gabe and I did a sanity check with the new flowmeter.\n",
    "- We have the Ar gas flow at 5.6 scfm for Air.\n",
    "- The bag has a volume of 38.457737 liters\n",
    "- It takes 17.66 seconds to fill the bag with the Ar gas."
   ]
  },
  {
   "cell_type": "code",
   "execution_count": 21,
   "metadata": {},
   "outputs": [
    {
     "name": "stdout",
     "output_type": "stream",
     "text": [
      "Air flow at 5.600000 scfm corresponds to Ar flow at 134.645045 slpm\n"
     ]
    }
   ],
   "source": [
    "AirFlow = 5.6\n",
    "ArFlow = 5.6*AirScfm2ArSlpm\n",
    "print('Air flow at %f scfm corresponds to Ar flow at %f slpm' % ( AirFlow, ArFlow ))"
   ]
  },
  {
   "cell_type": "code",
   "execution_count": 24,
   "metadata": {},
   "outputs": [
    {
     "name": "stdout",
     "output_type": "stream",
     "text": [
      "The measured Ar gas flow is 130.660488 slpm\n"
     ]
    }
   ],
   "source": [
    "# Volume of the bag\n",
    "V = 38.457737\n",
    "# Time to fill the bag with Ar\n",
    "t = 17.66\n",
    "MeasuredFlow = V/(t/60)\n",
    "print('The measured Ar gas flow is %f slpm' % MeasuredFlow )"
   ]
  },
  {
   "cell_type": "code",
   "execution_count": null,
   "metadata": {},
   "outputs": [],
   "source": []
  }
 ],
 "metadata": {
  "kernelspec": {
   "display_name": "Python 3",
   "language": "python",
   "name": "python3"
  },
  "language_info": {
   "codemirror_mode": {
    "name": "ipython",
    "version": 3
   },
   "file_extension": ".py",
   "mimetype": "text/x-python",
   "name": "python",
   "nbconvert_exporter": "python",
   "pygments_lexer": "ipython3",
   "version": "3.7.6"
  }
 },
 "nbformat": 4,
 "nbformat_minor": 4
}
