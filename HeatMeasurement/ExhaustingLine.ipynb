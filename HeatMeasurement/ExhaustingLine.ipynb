{
 "cells": [
  {
   "cell_type": "markdown",
   "metadata": {},
   "source": [
    "### Exhausting Line Volume\n",
    "\n",
    "- Length: 250\" = 635cm\n",
    "- Diameter: 3\" = 7.62cm"
   ]
  },
  {
   "cell_type": "code",
   "execution_count": 1,
   "metadata": {},
   "outputs": [],
   "source": [
    "import math"
   ]
  },
  {
   "cell_type": "code",
   "execution_count": 2,
   "metadata": {},
   "outputs": [],
   "source": [
    "r = 7.62/2\n",
    "l = 635"
   ]
  },
  {
   "cell_type": "code",
   "execution_count": 3,
   "metadata": {},
   "outputs": [
    {
     "name": "stdout",
     "output_type": "stream",
     "text": [
      "The volume of the exhausting line is 28958.332430 cm3\n"
     ]
    }
   ],
   "source": [
    "# Volume in cm^3\n",
    "V = math.pi*r*r*l\n",
    "print( 'The volume of the exhausting line is %f cm3' % V )"
   ]
  },
  {
   "cell_type": "code",
   "execution_count": 4,
   "metadata": {},
   "outputs": [
    {
     "name": "stdout",
     "output_type": "stream",
     "text": [
      "The volume of the exhausting line is 28.958332 liter\n"
     ]
    }
   ],
   "source": [
    "# Volume in liter\n",
    "VinL = V/1000\n",
    "print( 'The volume of the exhausting line is %f liter' % VinL )"
   ]
  },
  {
   "cell_type": "markdown",
   "metadata": {},
   "source": [
    "- UHP Ar in Size 300 High Pressure Steel Cylinder, CGA-580, pressure 2400 psi, internal volume 49.8 L, 336 ft3 (9514.46 L), environmental temperature"
   ]
  },
  {
   "cell_type": "code",
   "execution_count": 5,
   "metadata": {},
   "outputs": [
    {
     "name": "stdout",
     "output_type": "stream",
     "text": [
      "Pressure drop in the gas bottle should be 36.523354 psi\n"
     ]
    }
   ],
   "source": [
    "gV = 9514.46\n",
    "gP = 2400\n",
    "# Need 5 times of the volume of the exhausting line to purge\n",
    "P = 5*VinL/gV *gP\n",
    "print( 'Pressure drop in the gas bottle should be %f psi' % P )"
   ]
  },
  {
   "cell_type": "code",
   "execution_count": null,
   "metadata": {},
   "outputs": [],
   "source": []
  }
 ],
 "metadata": {
  "kernelspec": {
   "display_name": "Python 3",
   "language": "python",
   "name": "python3"
  },
  "language_info": {
   "codemirror_mode": {
    "name": "ipython",
    "version": 3
   },
   "file_extension": ".py",
   "mimetype": "text/x-python",
   "name": "python",
   "nbconvert_exporter": "python",
   "pygments_lexer": "ipython3",
   "version": "3.7.6"
  }
 },
 "nbformat": 4,
 "nbformat_minor": 4
}
