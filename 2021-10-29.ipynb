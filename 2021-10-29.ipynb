{
 "cells": [
  {
   "cell_type": "markdown",
   "metadata": {},
   "source": [
    "### Measure the parasitic heat of SLArchetto\n",
    "\n",
    "- No high voltage applied, no readout electronics.  Purely the cryogenic system."
   ]
  },
  {
   "cell_type": "markdown",
   "metadata": {},
   "source": [
    "Use a plastic tube connected to the venting hose (V14) of SLArchetto\n",
    "- half circumference = 8 inches = 203.2 mm\n",
    "- length of the tube = 9.6 feet = 2926.08 mm"
   ]
  },
  {
   "cell_type": "code",
   "execution_count": 1,
   "metadata": {},
   "outputs": [],
   "source": [
    "import math"
   ]
  },
  {
   "cell_type": "code",
   "execution_count": 4,
   "metadata": {},
   "outputs": [
    {
     "name": "stdout",
     "output_type": "stream",
     "text": [
      "Radius = 64.680569 mm\n"
     ]
    }
   ],
   "source": [
    "# radius (mm)\n",
    "r = 203.2/math.pi\n",
    "# length (mm)\n",
    "l = 2926.08\n",
    "print('Radius = %f mm' % r)"
   ]
  },
  {
   "cell_type": "code",
   "execution_count": 5,
   "metadata": {},
   "outputs": [
    {
     "name": "stdout",
     "output_type": "stream",
     "text": [
      "Volume = 38.457737 liter\n"
     ]
    }
   ],
   "source": [
    "# volume (mm^3)\n",
    "V = math.pi*(r**2)*l\n",
    "# volume (liter)\n",
    "V /= 1000000\n",
    "print('Volume = %f liter' % V)"
   ]
  },
  {
   "cell_type": "markdown",
   "metadata": {},
   "source": [
    "At 1 atm, 293.05 kelvin, the argon gas density is 0.041613 mol/l"
   ]
  },
  {
   "cell_type": "code",
   "execution_count": 6,
   "metadata": {},
   "outputs": [
    {
     "name": "stdout",
     "output_type": "stream",
     "text": [
      "1.600342 moles of argon in the bag\n"
     ]
    }
   ],
   "source": [
    "# density (mol/l)\n",
    "rho = 0.041613\n",
    "# Number of moles\n",
    "nMole = rho*V\n",
    "print('%f moles of argon in the bag' % nMole)"
   ]
  },
  {
   "cell_type": "markdown",
   "metadata": {},
   "source": [
    "Argon heat of vaporation: 6.447 kJ/mol"
   ]
  },
  {
   "cell_type": "code",
   "execution_count": 7,
   "metadata": {},
   "outputs": [
    {
     "name": "stdout",
     "output_type": "stream",
     "text": [
      "Need 10.317404 kJ of heat to produce 1.600342 moles of gas argon\n"
     ]
    }
   ],
   "source": [
    "# total heat to produce the argon gas with the volume of the plastic tube (kJ)\n",
    "H = nMole*6.447\n",
    "print('Need %f kJ of heat to produce %f moles of gas argon' % (H, nMole))"
   ]
  },
  {
   "cell_type": "markdown",
   "metadata": {},
   "source": [
    "- 1st test: it took 3.5 minutes to fill"
   ]
  },
  {
   "cell_type": "code",
   "execution_count": 11,
   "metadata": {},
   "outputs": [
    {
     "name": "stdout",
     "output_type": "stream",
     "text": [
      "Heat load of the first test: 49.130494 Watts\n"
     ]
    }
   ],
   "source": [
    "# Heat load per second (kW)\n",
    "P = H/(3.5*60)\n",
    "# Heat load in W\n",
    "P *= 1000\n",
    "print('Heat load of the first test: %f Watts' % P)"
   ]
  },
  {
   "cell_type": "markdown",
   "metadata": {},
   "source": [
    "- 2nd test: it took 7 minutes to fill"
   ]
  },
  {
   "cell_type": "code",
   "execution_count": 12,
   "metadata": {},
   "outputs": [
    {
     "name": "stdout",
     "output_type": "stream",
     "text": [
      "Heat load of the second test: 24.565247 Watts\n"
     ]
    }
   ],
   "source": [
    "# Heat load in W\n",
    "P = H/(7*60)*1000\n",
    "print ('Heat load of the second test: %f Watts' % P)"
   ]
  },
  {
   "cell_type": "markdown",
   "metadata": {},
   "source": [
    "- 3rd test: turned on the heaters (~450W).  It took 12 seconds to fill"
   ]
  },
  {
   "cell_type": "code",
   "execution_count": 13,
   "metadata": {},
   "outputs": [
    {
     "name": "stdout",
     "output_type": "stream",
     "text": [
      "Heat load of the third test with the ~450 W heaters: 859.783647 Watts\n"
     ]
    }
   ],
   "source": [
    "# Heat load in W\n",
    "P = H/12*1000\n",
    "print ('Heat load of the third test with the ~450 W heaters: %f Watts' % P)"
   ]
  },
  {
   "cell_type": "code",
   "execution_count": null,
   "metadata": {},
   "outputs": [],
   "source": []
  }
 ],
 "metadata": {
  "kernelspec": {
   "display_name": "Python 3",
   "language": "python",
   "name": "python3"
  },
  "language_info": {
   "codemirror_mode": {
    "name": "ipython",
    "version": 3
   },
   "file_extension": ".py",
   "mimetype": "text/x-python",
   "name": "python",
   "nbconvert_exporter": "python",
   "pygments_lexer": "ipython3",
   "version": "3.7.6"
  }
 },
 "nbformat": 4,
 "nbformat_minor": 4
}
